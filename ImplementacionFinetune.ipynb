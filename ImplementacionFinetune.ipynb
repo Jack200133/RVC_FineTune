{
  "cells": [
    {
      "cell_type": "markdown",
      "metadata": {
        "id": "F6zbsuNs6xZF"
      },
      "source": [
        "#Step 1. Install everything and connect your Drive (RUN THIS ONE FIRST)"
      ]
    },
    {
      "cell_type": "code",
      "execution_count": 2,
      "metadata": {
        "cellView": "form",
        "id": "GmFP6bN9dvOq"
      },
      "outputs": [
        {
          "name": "stdout",
          "output_type": "stream",
          "text": [
            "CC  /home/jack/U/VIII/DeepLearning/RVC_FineTune\n",
            "Thu Nov  9 01:56:12 2023       \n",
            "+---------------------------------------------------------------------------------------+\n",
            "| NVIDIA-SMI 535.104.07             Driver Version: 537.34       CUDA Version: 12.2     |\n",
            "|-----------------------------------------+----------------------+----------------------+\n",
            "| GPU  Name                 Persistence-M | Bus-Id        Disp.A | Volatile Uncorr. ECC |\n",
            "| Fan  Temp   Perf          Pwr:Usage/Cap |         Memory-Usage | GPU-Util  Compute M. |\n",
            "|                                         |                      |               MIG M. |\n",
            "|=========================================+======================+======================|\n",
            "|   0  NVIDIA GeForce RTX 3070 ...    On  | 00000000:01:00.0  On |                  N/A |\n",
            "| N/A   52C    P0              41W / 150W |   3415MiB /  8192MiB |     10%      Default |\n",
            "|                                         |                      |                  N/A |\n",
            "+-----------------------------------------+----------------------+----------------------+\n",
            "                                                                                         \n",
            "+---------------------------------------------------------------------------------------+\n",
            "| Processes:                                                                            |\n",
            "|  GPU   GI   CI        PID   Type   Process name                            GPU Memory |\n",
            "|        ID   ID                                                             Usage      |\n",
            "|=======================================================================================|\n",
            "|  No running processes found                                                           |\n",
            "+---------------------------------------------------------------------------------------+\n",
            "Cloning into './content/Retrieval-based-Voice-Conversion-WebUI/utils'...\n",
            "remote: Enumerating objects: 180, done.\u001b[K\n",
            "remote: Counting objects: 100% (50/50), done.\u001b[K\n",
            "remote: Compressing objects: 100% (5/5), done.\u001b[K\n",
            "remote: Total 180 (delta 47), reused 45 (delta 45), pack-reused 130\u001b[K\n",
            "Receiving objects: 100% (180/180), 35.41 KiB | 447.00 KiB/s, done.\n",
            "Resolving deltas: 100% (110/110), done.\n",
            "Time taken for utils Download: 1.1888854503631592 seconds\n"
          ]
        }
      ],
      "source": [
        "#@title Initialize External Code\n",
        "import time\n",
        "import os\n",
        "import subprocess\n",
        "import shutil\n",
        "import base64\n",
        "\n",
        "nosv_name1 = base64.b64decode(('ZXh0ZXJuYWxj').encode('ascii')).decode('ascii')\n",
        "nosv_name2 = base64.b64decode(('b2xhYmNvZGU=').encode('ascii')).decode('ascii')\n",
        "guebui = base64.b64decode(('V2U=').encode('ascii')).decode('ascii')\n",
        "guebui2 = base64.b64decode(('YlVJ').encode('ascii')).decode('ascii')\n",
        "pbestm = base64.b64decode(('cm12cGU=').encode('ascii')).decode('ascii')\n",
        "tryre = base64.b64decode(('UmV0cmlldmFs').encode('ascii')).decode('ascii')\n",
        "\n",
        "# Store the current working directory\n",
        "current_path = os.getcwd()\n",
        "\n",
        "print(\"CC \",current_path)\n",
        "\n",
        "# Clear the /content/ directory\n",
        "shutil.rmtree('./content/')\n",
        "os.makedirs('./content/', exist_ok=True)\n",
        "\n",
        "# Change the current working directory back to the original path\n",
        "os.chdir(current_path)\n",
        "\n",
        "start_time = time.time()\n",
        "\n",
        "!nvidia-smi\n",
        "!git clone https://github.com/kalomaze/externalcolabcode.git ./content/Retrieval-based-Voice-Conversion-WebUI/utils\n",
        "\n",
        "end_time = time.time()\n",
        "elapsed_time = end_time - start_time\n",
        "print(f\"Time taken for utils Download: {elapsed_time} seconds\")"
      ]
    },
    {
      "cell_type": "code",
      "execution_count": 4,
      "metadata": {},
      "outputs": [
        {
          "name": "stdout",
          "output_type": "stream",
          "text": [
            "CC  d:\\Proyectos\\VIII\\DEEP\\RVC_FineTune\n"
          ]
        }
      ],
      "source": [
        "current_path = os.getcwd()\n",
        "\n",
        "print(\"CC \",current_path)"
      ]
    },
    {
      "cell_type": "markdown",
      "metadata": {},
      "source": [
        "### ESTA SECCION SE DEBE A HACER MANUALMENTE EN EL ARCHIVO dependecy.py"
      ]
    },
    {
      "cell_type": "code",
      "execution_count": null,
      "metadata": {},
      "outputs": [],
      "source": [
        "##@title Install Dependencies and Clone Github Repository\n",
        "\n",
        "import threading\n",
        "\n",
        "start_time = time.time()\n",
        "# Store the current working directory\n",
        "\n",
        "\n",
        "#os.chdir(\"./content/Retrieval-based-Voice-Conversion-WebUI/\")\n",
        "from utils.dependency import *\n",
        "from utils.clone_alt import *\n",
        "os.chdir(\"..\")\n",
        "\n",
        "end_time = time.time()\n",
        "elapsed_time = end_time - start_time\n",
        "print(f\"Time taken for imports: {elapsed_time} seconds\")\n",
        "\n",
        "#@markdown This will forcefully update dependencies even after the initial install seemed to have functioned.\n",
        "ForceUpdateDependencies = False #@param{type:\"boolean\"}\n",
        "#@markdown This will force temporary storage to be used, so it will download dependencies every time instead of on Drive. Not needed, unless you really want that 160mb storage. (Turned on by default for non-training colab to boost the initial launch speed)\n",
        "ForceTemporaryStorage = True #@param{type:\"boolean\"}\n",
        "\n",
        "# Setup environment\n",
        "print(\"Attempting to setup environment dependencies...\")\n",
        "print(\"\\n----------------------------------------\")\n",
        "\n",
        "start_time_setup = time.time()\n",
        "setup_environment(ForceUpdateDependencies, ForceTemporaryStorage)\n",
        "# Apparently fastapi is getting errors as of writin according to #help-rvc\n",
        "# !pip install fastapi==0.88.0\n",
        "\n",
        "end_time_setup = time.time()\n",
        "elapsed_time_setup = end_time_setup - start_time_setup\n",
        "print(f\"Time taken for setup environment: {elapsed_time_setup} seconds\")"
      ]
    },
    {
      "cell_type": "code",
      "execution_count": 23,
      "metadata": {
        "cellView": "form",
        "id": "wjddIFr1oS3W"
      },
      "outputs": [
        {
          "name": "stderr",
          "output_type": "stream",
          "text": [
            "Exception ignored in: <function tqdm.__del__ at 0x7fbd083215a0>\n",
            "Traceback (most recent call last):\n",
            "  File \"/home/jack/U/VIII/DeepLearning/RVC_FineTune/myenv/lib/python3.10/site-packages/tqdm/std.py\", line 1149, in __del__\n",
            "    self.close()\n",
            "  File \"/home/jack/U/VIII/DeepLearning/RVC_FineTune/myenv/lib/python3.10/site-packages/tqdm/notebook.py\", line 278, in close\n",
            "    self.disp(bar_style='danger', check_delay=False)\n",
            "AttributeError: 'tqdm_notebook' object has no attribute 'disp'\n"
          ]
        },
        {
          "name": "stdout",
          "output_type": "stream",
          "text": [
            "----------------------------------------\n",
            "\n",
            "Attempting to clone necessary files...\n",
            "\n",
            "----------------------------------------\n"
          ]
        },
        {
          "name": "stderr",
          "output_type": "stream",
          "text": [
            "1033.66s - pydevd: Sending message related to process being replaced timed-out after 5 seconds\n"
          ]
        },
        {
          "name": "stdout",
          "output_type": "stream",
          "text": [
            "--2023-11-09 02:13:14--  https://huggingface.co/lj1995/VoiceConversionWebUI/resolve/main/rmvpe.pt\n",
            "Resolving huggingface.co (huggingface.co)... 13.226.52.8, 13.226.52.35, 13.226.52.100, ...\n",
            "Connecting to huggingface.co (huggingface.co)|13.226.52.8|:443... connected.\n",
            "HTTP request sent, awaiting response... 302 Found\n",
            "Location: https://cdn-lfs.huggingface.co/repos/ef/97/ef977053f017cde1fc0f89ac7ef0b33172a3d8fb8a840bb24e78b1c0f35f1e72/6d62215f4306e3ca278246188607209f09af3dc77ed4232efdd069798c4ec193?response-content-disposition=attachment%3B+filename*%3DUTF-8%27%27rmvpe.pt%3B+filename%3D%22rmvpe.pt%22%3B&Expires=1699773709&Policy=eyJTdGF0ZW1lbnQiOlt7IkNvbmRpdGlvbiI6eyJEYXRlTGVzc1RoYW4iOnsiQVdTOkVwb2NoVGltZSI6MTY5OTc3MzcwOX19LCJSZXNvdXJjZSI6Imh0dHBzOi8vY2RuLWxmcy5odWdnaW5nZmFjZS5jby9yZXBvcy9lZi85Ny9lZjk3NzA1M2YwMTdjZGUxZmMwZjg5YWM3ZWYwYjMzMTcyYTNkOGZiOGE4NDBiYjI0ZTc4YjFjMGYzNWYxZTcyLzZkNjIyMTVmNDMwNmUzY2EyNzgyNDYxODg2MDcyMDlmMDlhZjNkYzc3ZWQ0MjMyZWZkZDA2OTc5OGM0ZWMxOTM%7EcmVzcG9uc2UtY29udGVudC1kaXNwb3NpdGlvbj0qIn1dfQ__&Signature=VxB5IdhOZNOhY98KZ-iiYfyzuGgOvWDAMNsRu6J91YNVnztNad3UkPaPHv5m6hDqYo5tJCUadAQYhWflGdv1Z4MUugrjj7uLwdwZc1tvq%7E113uyk5wmQCH5PkbKg7vZtFxkuxuPY90dDnbOuYR1nan%7EqWKrlXOw6fcgCBA%7EjRyh5MVZfJBmX%7E7JiR7XUjkG1HRZKH%7Ev9dwIIdQAQ3O7o3g5wQ64Mu6R7juUYIIOc2KeqD8WY2YjzVBJ41%7E3a0rJ3ojjjGJVkTmG6uTgKqadzMN7fWrXUzDurAt-tpTR4e6kdJL7DQXFx8KFqYqC67cp1FxfO8wTVnp2PgHjQg%7EpbzQ__&Key-Pair-Id=KVTP0A1DKRTAX [following]\n",
            "--2023-11-09 02:13:14--  https://cdn-lfs.huggingface.co/repos/ef/97/ef977053f017cde1fc0f89ac7ef0b33172a3d8fb8a840bb24e78b1c0f35f1e72/6d62215f4306e3ca278246188607209f09af3dc77ed4232efdd069798c4ec193?response-content-disposition=attachment%3B+filename*%3DUTF-8%27%27rmvpe.pt%3B+filename%3D%22rmvpe.pt%22%3B&Expires=1699773709&Policy=eyJTdGF0ZW1lbnQiOlt7IkNvbmRpdGlvbiI6eyJEYXRlTGVzc1RoYW4iOnsiQVdTOkVwb2NoVGltZSI6MTY5OTc3MzcwOX19LCJSZXNvdXJjZSI6Imh0dHBzOi8vY2RuLWxmcy5odWdnaW5nZmFjZS5jby9yZXBvcy9lZi85Ny9lZjk3NzA1M2YwMTdjZGUxZmMwZjg5YWM3ZWYwYjMzMTcyYTNkOGZiOGE4NDBiYjI0ZTc4YjFjMGYzNWYxZTcyLzZkNjIyMTVmNDMwNmUzY2EyNzgyNDYxODg2MDcyMDlmMDlhZjNkYzc3ZWQ0MjMyZWZkZDA2OTc5OGM0ZWMxOTM%7EcmVzcG9uc2UtY29udGVudC1kaXNwb3NpdGlvbj0qIn1dfQ__&Signature=VxB5IdhOZNOhY98KZ-iiYfyzuGgOvWDAMNsRu6J91YNVnztNad3UkPaPHv5m6hDqYo5tJCUadAQYhWflGdv1Z4MUugrjj7uLwdwZc1tvq%7E113uyk5wmQCH5PkbKg7vZtFxkuxuPY90dDnbOuYR1nan%7EqWKrlXOw6fcgCBA%7EjRyh5MVZfJBmX%7E7JiR7XUjkG1HRZKH%7Ev9dwIIdQAQ3O7o3g5wQ64Mu6R7juUYIIOc2KeqD8WY2YjzVBJ41%7E3a0rJ3ojjjGJVkTmG6uTgKqadzMN7fWrXUzDurAt-tpTR4e6kdJL7DQXFx8KFqYqC67cp1FxfO8wTVnp2PgHjQg%7EpbzQ__&Key-Pair-Id=KVTP0A1DKRTAX\n",
            "Resolving cdn-lfs.huggingface.co (cdn-lfs.huggingface.co)... 18.239.225.20, 18.239.225.69, 18.239.225.76, ...\n",
            "Connecting to cdn-lfs.huggingface.co (cdn-lfs.huggingface.co)|18.239.225.20|:443... connected.\n",
            "HTTP request sent, awaiting response... 200 OK\n",
            "Length: 181184272 (173M) [binary/octet-stream]\n",
            "Saving to: ‘/home/jack/U/VIII/DeepLearning/RVC_FineTune/content/Retrieval-based-Voice-Conversion-WebUI/rmvpe.pt.1’\n",
            "\n",
            "rmvpe.pt.1          100%[===================>] 172.79M  10.7MB/s    in 17s     \n",
            "\n",
            "2023-11-09 02:13:32 (9.98 MB/s) - ‘/home/jack/U/VIII/DeepLearning/RVC_FineTune/content/Retrieval-based-Voice-Conversion-WebUI/rmvpe.pt.1’ saved [181184272/181184272]\n",
            "\n",
            "Time taken for clone repository: 23.24098491668701 seconds\n",
            "----------------------------------------\n",
            "\n",
            "Cell completed.\n"
          ]
        },
        {
          "name": "stderr",
          "output_type": "stream",
          "text": [
            "1056.89s - pydevd: Sending message related to process being replaced timed-out after 5 seconds\n",
            "1068.27s - pydevd: Sending message related to process being replaced timed-out after 5 seconds\n"
          ]
        },
        {
          "name": "stdout",
          "output_type": "stream",
          "text": [
            "Collecting gradio==3.34.0\n",
            "  Using cached gradio-3.34.0-py3-none-any.whl (20.0 MB)\n",
            "Collecting pyyaml\n",
            "  Using cached PyYAML-6.0.1-cp310-cp310-manylinux_2_17_x86_64.manylinux2014_x86_64.whl (705 kB)\n",
            "Collecting semantic-version\n",
            "  Using cached semantic_version-2.10.0-py2.py3-none-any.whl (15 kB)\n",
            "Collecting pydantic\n",
            "  Using cached pydantic-2.4.2-py3-none-any.whl (395 kB)\n",
            "Collecting fastapi\n",
            "  Using cached fastapi-0.104.1-py3-none-any.whl (92 kB)\n",
            "Collecting websockets>=10.0\n",
            "  Using cached websockets-12.0-cp310-cp310-manylinux_2_5_x86_64.manylinux1_x86_64.manylinux_2_17_x86_64.manylinux2014_x86_64.whl (130 kB)\n",
            "Requirement already satisfied: matplotlib in /home/jack/U/VIII/DeepLearning/RVC_FineTune/myenv/lib/python3.10/site-packages (from gradio==3.34.0) (3.8.1)\n",
            "Collecting pandas\n",
            "  Using cached pandas-2.1.2-cp310-cp310-manylinux_2_17_x86_64.manylinux2014_x86_64.whl (12.3 MB)\n",
            "Collecting mdit-py-plugins<=0.3.3\n",
            "  Using cached mdit_py_plugins-0.3.3-py3-none-any.whl (50 kB)\n",
            "Collecting python-multipart\n",
            "  Using cached python_multipart-0.0.6-py3-none-any.whl (45 kB)\n",
            "Requirement already satisfied: pygments>=2.12.0 in /home/jack/U/VIII/DeepLearning/RVC_FineTune/myenv/lib/python3.10/site-packages (from gradio==3.34.0) (2.16.1)\n",
            "Collecting huggingface-hub>=0.14.0\n",
            "  Downloading huggingface_hub-0.19.0-py3-none-any.whl (311 kB)\n",
            "\u001b[2K     \u001b[90m━━━━━━━━━━━━━━━━━━━━━━━━━━━━━━━━━━━━━━━\u001b[0m \u001b[32m311.2/311.2 KB\u001b[0m \u001b[31m1.3 MB/s\u001b[0m eta \u001b[36m0:00:00\u001b[0ma \u001b[36m0:00:01\u001b[0m\n",
            "\u001b[?25hCollecting altair>=4.2.0\n",
            "  Using cached altair-5.1.2-py3-none-any.whl (516 kB)\n",
            "Collecting jinja2\n",
            "  Using cached Jinja2-3.1.2-py3-none-any.whl (133 kB)\n",
            "Collecting aiofiles\n",
            "  Using cached aiofiles-23.2.1-py3-none-any.whl (15 kB)\n",
            "Collecting aiohttp\n",
            "  Using cached aiohttp-3.8.6-cp310-cp310-manylinux_2_17_x86_64.manylinux2014_x86_64.whl (1.0 MB)\n",
            "Collecting pydub\n",
            "  Using cached pydub-0.25.1-py2.py3-none-any.whl (32 kB)\n",
            "Requirement already satisfied: numpy in /home/jack/U/VIII/DeepLearning/RVC_FineTune/myenv/lib/python3.10/site-packages (from gradio==3.34.0) (1.26.1)\n",
            "Collecting ffmpy\n",
            "  Using cached ffmpy-0.3.1-py3-none-any.whl\n",
            "Collecting gradio-client>=0.2.6\n",
            "  Using cached gradio_client-0.7.0-py3-none-any.whl (302 kB)\n",
            "Collecting uvicorn>=0.14.0\n",
            "  Downloading uvicorn-0.24.0.post1-py3-none-any.whl (59 kB)\n",
            "\u001b[2K     \u001b[90m━━━━━━━━━━━━━━━━━━━━━━━━━━━━━━━━━━━━━━━━\u001b[0m \u001b[32m59.7/59.7 KB\u001b[0m \u001b[31m4.4 MB/s\u001b[0m eta \u001b[36m0:00:00\u001b[0m\n",
            "\u001b[?25hRequirement already satisfied: pillow in /home/jack/U/VIII/DeepLearning/RVC_FineTune/myenv/lib/python3.10/site-packages (from gradio==3.34.0) (10.1.0)\n",
            "Collecting markdown-it-py[linkify]>=2.0.0\n",
            "  Using cached markdown_it_py-3.0.0-py3-none-any.whl (87 kB)\n",
            "Requirement already satisfied: requests in /home/jack/U/VIII/DeepLearning/RVC_FineTune/myenv/lib/python3.10/site-packages (from gradio==3.34.0) (2.31.0)\n",
            "Collecting typing-extensions\n",
            "  Using cached typing_extensions-4.8.0-py3-none-any.whl (31 kB)\n",
            "Collecting orjson\n",
            "  Using cached orjson-3.9.10-cp310-cp310-manylinux_2_17_x86_64.manylinux2014_x86_64.whl (138 kB)\n",
            "Collecting markupsafe\n",
            "  Using cached MarkupSafe-2.1.3-cp310-cp310-manylinux_2_17_x86_64.manylinux2014_x86_64.whl (25 kB)\n",
            "Collecting httpx\n",
            "  Using cached httpx-0.25.1-py3-none-any.whl (75 kB)\n",
            "Collecting jsonschema>=3.0\n",
            "  Using cached jsonschema-4.19.2-py3-none-any.whl (83 kB)\n",
            "Collecting toolz\n",
            "  Using cached toolz-0.12.0-py3-none-any.whl (55 kB)\n",
            "Requirement already satisfied: packaging in /home/jack/U/VIII/DeepLearning/RVC_FineTune/myenv/lib/python3.10/site-packages (from altair>=4.2.0->gradio==3.34.0) (23.2)\n",
            "Collecting websockets>=10.0\n",
            "  Using cached websockets-11.0.3-cp310-cp310-manylinux_2_5_x86_64.manylinux1_x86_64.manylinux_2_17_x86_64.manylinux2014_x86_64.whl (129 kB)\n",
            "Collecting fsspec\n",
            "  Using cached fsspec-2023.10.0-py3-none-any.whl (166 kB)\n",
            "Collecting filelock\n",
            "  Using cached filelock-3.13.1-py3-none-any.whl (11 kB)\n",
            "Requirement already satisfied: tqdm>=4.42.1 in /home/jack/U/VIII/DeepLearning/RVC_FineTune/myenv/lib/python3.10/site-packages (from huggingface-hub>=0.14.0->gradio==3.34.0) (4.66.1)\n",
            "Collecting mdurl~=0.1\n",
            "  Using cached mdurl-0.1.2-py3-none-any.whl (10.0 kB)\n",
            "Collecting linkify-it-py<3,>=1\n",
            "  Using cached linkify_it_py-2.0.2-py3-none-any.whl (19 kB)\n",
            "Collecting mdit-py-plugins<=0.3.3\n",
            "  Using cached mdit_py_plugins-0.3.2-py3-none-any.whl (50 kB)\n",
            "  Using cached mdit_py_plugins-0.3.1-py3-none-any.whl (46 kB)\n",
            "  Using cached mdit_py_plugins-0.3.0-py3-none-any.whl (43 kB)\n",
            "  Using cached mdit_py_plugins-0.2.8-py3-none-any.whl (41 kB)\n",
            "  Using cached mdit_py_plugins-0.2.7-py3-none-any.whl (41 kB)\n",
            "  Using cached mdit_py_plugins-0.2.6-py3-none-any.whl (39 kB)\n",
            "  Using cached mdit_py_plugins-0.2.5-py3-none-any.whl (39 kB)\n",
            "  Using cached mdit_py_plugins-0.2.4-py3-none-any.whl (39 kB)\n",
            "  Using cached mdit_py_plugins-0.2.3-py3-none-any.whl (39 kB)\n",
            "  Using cached mdit_py_plugins-0.2.2-py3-none-any.whl (39 kB)\n",
            "  Using cached mdit_py_plugins-0.2.1-py3-none-any.whl (38 kB)\n",
            "  Using cached mdit_py_plugins-0.2.0-py3-none-any.whl (38 kB)\n",
            "  Using cached mdit_py_plugins-0.1.0-py3-none-any.whl (37 kB)\n",
            "INFO: pip is looking at multiple versions of markdown-it-py[linkify] to determine which version is compatible with other requirements. This could take a while.\n",
            "Collecting markdown-it-py[linkify]>=2.0.0\n",
            "  Using cached markdown_it_py-2.2.0-py3-none-any.whl (84 kB)\n",
            "Requirement already satisfied: python-dateutil>=2.8.2 in /home/jack/U/VIII/DeepLearning/RVC_FineTune/myenv/lib/python3.10/site-packages (from pandas->gradio==3.34.0) (2.8.2)\n",
            "Collecting tzdata>=2022.1\n",
            "  Using cached tzdata-2023.3-py2.py3-none-any.whl (341 kB)\n",
            "Collecting pytz>=2020.1\n",
            "  Using cached pytz-2023.3.post1-py2.py3-none-any.whl (502 kB)\n",
            "Requirement already satisfied: idna<4,>=2.5 in /home/jack/U/VIII/DeepLearning/RVC_FineTune/myenv/lib/python3.10/site-packages (from requests->gradio==3.34.0) (3.4)\n",
            "Requirement already satisfied: urllib3<3,>=1.21.1 in /home/jack/U/VIII/DeepLearning/RVC_FineTune/myenv/lib/python3.10/site-packages (from requests->gradio==3.34.0) (2.0.7)\n",
            "Requirement already satisfied: certifi>=2017.4.17 in /home/jack/U/VIII/DeepLearning/RVC_FineTune/myenv/lib/python3.10/site-packages (from requests->gradio==3.34.0) (2023.7.22)\n",
            "Requirement already satisfied: charset-normalizer<4,>=2 in /home/jack/U/VIII/DeepLearning/RVC_FineTune/myenv/lib/python3.10/site-packages (from requests->gradio==3.34.0) (3.3.2)\n",
            "Collecting h11>=0.8\n",
            "  Using cached h11-0.14.0-py3-none-any.whl (58 kB)\n",
            "Requirement already satisfied: click>=7.0 in /home/jack/U/VIII/DeepLearning/RVC_FineTune/myenv/lib/python3.10/site-packages (from uvicorn>=0.14.0->gradio==3.34.0) (8.1.7)\n",
            "Collecting async-timeout<5.0,>=4.0.0a3\n",
            "  Using cached async_timeout-4.0.3-py3-none-any.whl (5.7 kB)\n",
            "Collecting yarl<2.0,>=1.0\n",
            "  Using cached yarl-1.9.2-cp310-cp310-manylinux_2_17_x86_64.manylinux2014_x86_64.whl (268 kB)\n",
            "Collecting attrs>=17.3.0\n",
            "  Using cached attrs-23.1.0-py3-none-any.whl (61 kB)\n",
            "Collecting multidict<7.0,>=4.5\n",
            "  Using cached multidict-6.0.4-cp310-cp310-manylinux_2_17_x86_64.manylinux2014_x86_64.whl (114 kB)\n",
            "Collecting frozenlist>=1.1.1\n",
            "  Using cached frozenlist-1.4.0-cp310-cp310-manylinux_2_5_x86_64.manylinux1_x86_64.manylinux_2_17_x86_64.manylinux2014_x86_64.whl (225 kB)\n",
            "Collecting aiosignal>=1.1.2\n",
            "  Using cached aiosignal-1.3.1-py3-none-any.whl (7.6 kB)\n",
            "Collecting anyio<4.0.0,>=3.7.1\n",
            "  Using cached anyio-3.7.1-py3-none-any.whl (80 kB)\n",
            "Collecting starlette<0.28.0,>=0.27.0\n",
            "  Using cached starlette-0.27.0-py3-none-any.whl (66 kB)\n",
            "Collecting pydantic-core==2.10.1\n",
            "  Using cached pydantic_core-2.10.1-cp310-cp310-manylinux_2_17_x86_64.manylinux2014_x86_64.whl (2.0 MB)\n",
            "Collecting annotated-types>=0.4.0\n",
            "  Using cached annotated_types-0.6.0-py3-none-any.whl (12 kB)\n",
            "Collecting httpcore\n",
            "  Using cached httpcore-1.0.1-py3-none-any.whl (76 kB)\n",
            "Collecting sniffio\n",
            "  Using cached sniffio-1.3.0-py3-none-any.whl (10 kB)\n",
            "Requirement already satisfied: kiwisolver>=1.3.1 in /home/jack/U/VIII/DeepLearning/RVC_FineTune/myenv/lib/python3.10/site-packages (from matplotlib->gradio==3.34.0) (1.4.5)\n",
            "Requirement already satisfied: cycler>=0.10 in /home/jack/U/VIII/DeepLearning/RVC_FineTune/myenv/lib/python3.10/site-packages (from matplotlib->gradio==3.34.0) (0.12.1)\n",
            "Requirement already satisfied: pyparsing>=2.3.1 in /home/jack/U/VIII/DeepLearning/RVC_FineTune/myenv/lib/python3.10/site-packages (from matplotlib->gradio==3.34.0) (3.1.1)\n",
            "Requirement already satisfied: fonttools>=4.22.0 in /home/jack/U/VIII/DeepLearning/RVC_FineTune/myenv/lib/python3.10/site-packages (from matplotlib->gradio==3.34.0) (4.44.0)\n",
            "Requirement already satisfied: contourpy>=1.0.1 in /home/jack/U/VIII/DeepLearning/RVC_FineTune/myenv/lib/python3.10/site-packages (from matplotlib->gradio==3.34.0) (1.2.0)\n",
            "Requirement already satisfied: exceptiongroup in /home/jack/U/VIII/DeepLearning/RVC_FineTune/myenv/lib/python3.10/site-packages (from anyio<4.0.0,>=3.7.1->fastapi->gradio==3.34.0) (1.1.3)\n",
            "Collecting jsonschema-specifications>=2023.03.6\n",
            "  Using cached jsonschema_specifications-2023.7.1-py3-none-any.whl (17 kB)\n",
            "Collecting rpds-py>=0.7.1\n",
            "  Using cached rpds_py-0.12.0-cp310-cp310-manylinux_2_17_x86_64.manylinux2014_x86_64.whl (1.2 MB)\n",
            "Collecting referencing>=0.28.4\n",
            "  Using cached referencing-0.30.2-py3-none-any.whl (25 kB)\n",
            "Collecting uc-micro-py\n",
            "  Using cached uc_micro_py-1.0.2-py3-none-any.whl (6.2 kB)\n",
            "Requirement already satisfied: six>=1.5 in /home/jack/U/VIII/DeepLearning/RVC_FineTune/myenv/lib/python3.10/site-packages (from python-dateutil>=2.8.2->pandas->gradio==3.34.0) (1.16.0)\n",
            "Installing collected packages: pytz, pydub, ffmpy, websockets, uc-micro-py, tzdata, typing-extensions, toolz, sniffio, semantic-version, rpds-py, pyyaml, python-multipart, orjson, multidict, mdurl, markupsafe, h11, fsspec, frozenlist, filelock, attrs, async-timeout, annotated-types, aiofiles, yarl, uvicorn, referencing, pydantic-core, pandas, markdown-it-py, linkify-it-py, jinja2, huggingface-hub, httpcore, anyio, aiosignal, starlette, pydantic, mdit-py-plugins, jsonschema-specifications, httpx, aiohttp, jsonschema, gradio-client, fastapi, altair, gradio\n",
            "Successfully installed aiofiles-23.2.1 aiohttp-3.8.6 aiosignal-1.3.1 altair-5.1.2 annotated-types-0.6.0 anyio-3.7.1 async-timeout-4.0.3 attrs-23.1.0 fastapi-0.104.1 ffmpy-0.3.1 filelock-3.13.1 frozenlist-1.4.0 fsspec-2023.10.0 gradio-3.34.0 gradio-client-0.7.0 h11-0.14.0 httpcore-1.0.1 httpx-0.25.1 huggingface-hub-0.19.0 jinja2-3.1.2 jsonschema-4.19.2 jsonschema-specifications-2023.7.1 linkify-it-py-2.0.2 markdown-it-py-2.2.0 markupsafe-2.1.3 mdit-py-plugins-0.3.3 mdurl-0.1.2 multidict-6.0.4 orjson-3.9.10 pandas-2.1.2 pydantic-2.4.2 pydantic-core-2.10.1 pydub-0.25.1 python-multipart-0.0.6 pytz-2023.3.post1 pyyaml-6.0.1 referencing-0.30.2 rpds-py-0.12.0 semantic-version-2.10.0 sniffio-1.3.0 starlette-0.27.0 toolz-0.12.0 typing-extensions-4.8.0 tzdata-2023.3 uc-micro-py-1.0.2 uvicorn-0.24.0.post1 websockets-11.0.3 yarl-1.9.2\n"
          ]
        }
      ],
      "source": [
        "\n",
        "\n",
        "print(\"----------------------------------------\\n\")\n",
        "print(\"Attempting to clone necessary files...\")\n",
        "print(\"\\n----------------------------------------\")\n",
        "\n",
        "start_time_clone = time.time()\n",
        "clone_repository(True)\n",
        "!wget https://huggingface.co/lj1995/VoiceConversionWebUI/resolve/main/rmvpe.pt -P /home/jack/U/VIII/DeepLearning/RVC_FineTune/content/Retrieval-based-Voice-Conversion-WebUI/\n",
        "\n",
        "end_time_clone = time.time()\n",
        "elapsed_time_clone = end_time_clone - start_time_clone\n",
        "print(f\"Time taken for clone repository: {elapsed_time_clone} seconds\")\n",
        "\n",
        "print(\"----------------------------------------\\n\")\n",
        "print(\"Cell completed.\")\n",
        "\n",
        "!pip install -q stftpitchshift==1.5.1\n",
        "!pip install gradio==3.34.0"
      ]
    },
    {
      "cell_type": "markdown",
      "metadata": {
        "id": "XAuGUlHDB4cx"
      },
      "source": [
        "#Choose what you want to do.\n",
        "##Do you want to load a MODEL and run it or make a new one with a DATASET?"
      ]
    },
    {
      "cell_type": "code",
      "execution_count": null,
      "metadata": {
        "id": "_ypxay7RbwMn"
      },
      "outputs": [],
      "source": [
        "gpu_info = !nvidia-smi\n",
        "gpu_info = '\\n'.join(gpu_info)\n",
        "if gpu_info.find('failed') >= 0:\n",
        "  print('Not connected to a GPU')\n",
        "else:\n",
        "  print(gpu_info)"
      ]
    },
    {
      "cell_type": "markdown",
      "metadata": {
        "id": "dGDewjhS7wXS"
      },
      "source": [
        "#Step 4. Run the GUI by tapping on the public URL. It's gonna look like this:\n",
        "![alt text](https://drive.google.com/uc?id=1YpraB1Fc8B24TCtdzOo_AmzMMGoZXZ2e)\n"
      ]
    },
    {
      "cell_type": "markdown",
      "metadata": {},
      "source": [
        "# Correr el archivo de LocalVersionGUI.py"
      ]
    }
  ],
  "metadata": {
    "accelerator": "GPU",
    "colab": {
      "collapsed_sections": [
        "F6zbsuNs6xZF",
        "p9SHghdUw2O_",
        "N5hRDyb8D5XU"
      ],
      "gpuType": "T4",
      "machine_shape": "hm",
      "private_outputs": true,
      "provenance": []
    },
    "kernelspec": {
      "display_name": "Python 3",
      "name": "python3"
    },
    "language_info": {
      "codemirror_mode": {
        "name": "ipython",
        "version": 3
      },
      "file_extension": ".py",
      "mimetype": "text/x-python",
      "name": "python",
      "nbconvert_exporter": "python",
      "pygments_lexer": "ipython3",
      "version": "3.10.12"
    }
  },
  "nbformat": 4,
  "nbformat_minor": 0
}
